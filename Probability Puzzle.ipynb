{
 "cells": [
  {
   "cell_type": "code",
   "execution_count": null,
   "metadata": {},
   "outputs": [],
   "source": [
    "import random\n",
    "from pipe import *"
   ]
  },
  {
   "cell_type": "markdown",
   "metadata": {},
   "source": [
    "Theo used a simple samping approach to compute the probability using a simulated \"Monte Carlo\" approach."
   ]
  },
  {
   "cell_type": "code",
   "execution_count": 813,
   "metadata": {},
   "outputs": [
    {
     "name": "stdout",
     "output_type": "stream",
     "text": [
      "EveryDay: 1.0\n",
      "Weekly: 0.931\n",
      "Monthly: 0.432\n",
      "Twice: 0.076\n",
      "Annual: 0.049\n"
     ]
    }
   ],
   "source": [
    "def yearly_simulation( test_days=52 ):\n",
    "\n",
    "    # the drunk days is locked to once per month\n",
    "    drunk = set( random.sample( range(260), 12 ) ) \n",
    "    test =  set( random.sample( range(260), test_days ) )\n",
    "\n",
    "    return len(drunk.intersection(test)) > 0\n",
    "\n",
    "def run_monte_carlo(test_days=52, iterations=10000):\n",
    "    \n",
    "    answers = range(iterations) \\\n",
    "        | select( lambda x: yearly_simulation(test_days) ) \\\n",
    "        | as_list\n",
    "\n",
    "    trues = answers | where( lambda x: x == True ) | count\n",
    "    falses = answers | where( lambda x: x==False ) | count\n",
    "\n",
    "    return (trues / (trues+falses))\n",
    "    \n",
    "print( f\"EveryDay: {run_test(260)}\" )\n",
    "print( f\"Weekly: {run_test(52)}\" )\n",
    "print( f\"Monthly: {run_test(12)}\" )\n",
    "print( f\"Twice: {run_test(2)}\" )\n",
    "print( f\"Annual: {run_test(1)}\" )"
   ]
  },
  {
   "cell_type": "markdown",
   "metadata": {},
   "source": [
    "Initially, I didn't trust this because the code seems flawed. \n",
    "\n",
    "For example it's possible in this simulation to have 12 drunk days in a single month. It seemed to make more sense to canonically distribute the drunk and test days canonically across time. \n",
    "\n",
    "As it transpired later, it didn't seem to make much difference (especially with higher test frequency). I think this is because;\n",
    "\n",
    "* We are running the simulation a lot of times\n",
    "* In some sense, it doesn't matter \"when\" it happened, just the frequency matters\n",
    "* There won't be day collisions due to use of sample function\n",
    "\n",
    "But for completness, I tried stratifying the time with the following functions;"
   ]
  },
  {
   "cell_type": "code",
   "execution_count": 824,
   "metadata": {},
   "outputs": [
    {
     "name": "stdout",
     "output_type": "stream",
     "text": [
      "{'(2, 2, 1)': 1, '(6, 2, 3)': 1, '(11, 3, 4)': 1, '(1, 2, 1)': 1, '(6, 2, 1)': 1, '(11, 3, 3)': 1, '(11, 0, 0)': 1, '(9, 3, 0)': 1, '(9, 0, 4)': 1, '(0, 1, 2)': 1}\n"
     ]
    }
   ],
   "source": [
    "# printing this out so you can see how I am encoding days in the following functions\n",
    "# i.e. (month, week, day)\n",
    "# this approach is not perfect i.e. it will come out at 48 weeks in a year not 52\n",
    "# but at least it will stratify the events more realistically\n",
    "\n",
    "print( range(10) \\\n",
    "        | select(lambda d: (random.randint(0,11), \n",
    "                            random.randint(0,3), \n",
    "                            random.randint(0,4) ) ) \\\n",
    "        | select( lambda t: ( str(t), 1 ) ) \\\n",
    "        | as_dict )\n"
   ]
  },
  {
   "cell_type": "code",
   "execution_count": 820,
   "metadata": {},
   "outputs": [
    {
     "name": "stdout",
     "output_type": "stream",
     "text": [
      "Annual simulation was 0.096530, monte carlo said 0.049\n"
     ]
    }
   ],
   "source": [
    "def annualtest_yearsimulation():\n",
    "    # days keyed on tuple string (month, week, day)\n",
    "\n",
    "    # two testing days per year\n",
    "    # note that these two days could be the same ~1/260^2 but negligable\n",
    "    days_test = range(1) \\\n",
    "        | select(lambda d: (random.randint(0,11), \n",
    "                            random.randint(0,3), \n",
    "                            random.randint(0,4) ) ) \\\n",
    "        | select( lambda t: ( str(t), 1 ) ) \\\n",
    "        | as_dict\n",
    "        \n",
    "    # monthly testing days (should be 12)\n",
    "    days_monthlydrunk = range(12) \\\n",
    "        | select(lambda month: (month, random.randint(0,3), random.randint(0,4) ) ) \\\n",
    "        | as_list\n",
    "\n",
    "    caught_times = days_monthlydrunk \\\n",
    "        | where( lambda dd: days_test.get( str( dd ) ) == 1 ) \\\n",
    "        | count \n",
    "    \n",
    "    return caught_times\n",
    "\n",
    "answers = range(100000) \\\n",
    "    | select( lambda x: twiceyearlytest_yearsimulation() ) \\\n",
    "    | as_list\n",
    "\n",
    "trues = answers | where( lambda x: x>0 ) | count\n",
    "falses = answers | where( lambda x: x==0 ) | count\n",
    "\n",
    "print( \"Annual simulation was %f, monte carlo said 0.049\" % (trues / (trues+falses)) )"
   ]
  },
  {
   "cell_type": "code",
   "execution_count": 816,
   "metadata": {},
   "outputs": [
    {
     "name": "stdout",
     "output_type": "stream",
     "text": [
      "Twice anual simulation was 0.097660, monte carlo said 0.076\n"
     ]
    }
   ],
   "source": [
    "def twiceyearlytest_yearsimulation():\n",
    "    # days keyed on tuple string (month, week, day)\n",
    "\n",
    "    # two testing days per year\n",
    "    # note that these two days could be the same ~1/260^2 but negligable\n",
    "    days_test = range(2) \\\n",
    "        | select(lambda d: (random.randint(0,11), \n",
    "                            random.randint(0,3), \n",
    "                            random.randint(0,4) ) ) \\\n",
    "        | select( lambda t: ( str(t), 1 ) ) \\\n",
    "        | as_dict\n",
    "        \n",
    "    # monthly testing days (should be 12)\n",
    "    days_monthlydrunk = range(12) \\\n",
    "        | select(lambda month: (month, random.randint(0,3), random.randint(0,4) ) ) \\\n",
    "        | as_list\n",
    "\n",
    "    caught_times = days_monthlydrunk \\\n",
    "        | where( lambda dd: days_test.get( str( dd ) ) == 1 ) \\\n",
    "        | count \n",
    "    \n",
    "    return caught_times\n",
    "\n",
    "answers = range(100000) \\\n",
    "    | select( lambda x: twiceyearlytest_yearsimulation() ) \\\n",
    "    | as_list\n",
    "\n",
    "trues = answers | where( lambda x: x>0 ) | count\n",
    "falses = answers | where( lambda x: x==0 ) | count\n",
    "\n",
    "print( \"Twice anual simulation was %f, monte carlo said 0.076\" % (trues / (trues+falses)) )"
   ]
  },
  {
   "cell_type": "code",
   "execution_count": 817,
   "metadata": {},
   "outputs": [
    {
     "name": "stdout",
     "output_type": "stream",
     "text": [
      "Monthly simulation was 0.454200, monte carlo said 0.432\n"
     ]
    }
   ],
   "source": [
    "def monthlytest_yearsimulation():\n",
    "    # days keyed on tuple string (month, week, day)\n",
    "\n",
    "    # weekly testing days (should be 48 which is nearly 52, good enough)\n",
    "    days_monthlytest = range(12) \\\n",
    "        | select(lambda month: (month, random.randint(0,3), random.randint(0,4) ) ) \\\n",
    "        | select( lambda t: ( str(t), 1 ) ) \\\n",
    "        | as_dict\n",
    "\n",
    "    # monthly testing days (should be 12)\n",
    "    days_monthlydrunk = range(12) \\\n",
    "        | select(lambda month: (month, random.randint(0,3), random.randint(0,4) ) ) \\\n",
    "        | as_list\n",
    "\n",
    "    caught_times = days_monthlydrunk \\\n",
    "        | where( lambda dd: days_monthlytest.get( str( dd ) ) == 1 ) \\\n",
    "        | count \n",
    "    \n",
    "    return caught_times\n",
    "\n",
    "answers = range(10000) \\\n",
    "    | select( lambda x: monthlytest_yearsimulation() ) \\\n",
    "    | as_list\n",
    "\n",
    "trues = answers | where( lambda x: x>0 ) | count\n",
    "falses = answers | where( lambda x: x==0 ) | count\n",
    "\n",
    "print( \"Monthly simulation was %f, monte carlo said 0.432\" % (trues / (trues+falses)) )"
   ]
  },
  {
   "cell_type": "code",
   "execution_count": 818,
   "metadata": {},
   "outputs": [
    {
     "name": "stdout",
     "output_type": "stream",
     "text": [
      "Weekly simulation was 0.932070, monte carlo said 0.931\n"
     ]
    }
   ],
   "source": [
    "def weeklytest_yearsimulation():\n",
    "    # days keyed on tuple string (month, week, day)\n",
    "\n",
    "    # weekly testing days (should be 48 which is nearly 52, good enough)\n",
    "    days_weeklytest = range(12) \\\n",
    "        | select(lambda month: range(4)  \\\n",
    "                 | select( lambda week: (month, week, random.randint(0,4) )  ) \\\n",
    "                      | as_list ) \\\n",
    "                        | chain \\\n",
    "                        | select( lambda t: ( str(t), 1 ) ) \\\n",
    "                        | as_dict\n",
    "\n",
    "    # monthly testing days (should be 12)\n",
    "    days_monthlydrunk = range(12) \\\n",
    "        | select(lambda month: (month, random.randint(0,3), random.randint(0,4) ) ) \\\n",
    "        | as_list\n",
    "\n",
    "    caught_times = days_monthlydrunk \\\n",
    "        | where( lambda dd: days_weeklytest.get( str( dd ) ) == 1 ) \\\n",
    "        | count \n",
    "    \n",
    "    return caught_times\n",
    "\n",
    "answers = range(100000) \\\n",
    "    | select( lambda x: weeklytest_yearsimulation() ) \\\n",
    "    | as_list\n",
    "\n",
    "trues = answers | where( lambda x: x>0 ) | count\n",
    "falses = answers | where( lambda x: x==0 ) | count\n",
    "\n",
    "print( \"Weekly simulation was %f, monte carlo said 0.931\" % (trues / (trues+falses)) )"
   ]
  },
  {
   "cell_type": "markdown",
   "metadata": {},
   "source": [
    "OK so the naive monte carlo simulation is actually pretty good. The monte carlo seems to get more accurate as the number of tests increases which is intuative"
   ]
  },
  {
   "cell_type": "markdown",
   "metadata": {},
   "source": [
    "Let's run a bunch of tests for different days and capture the results"
   ]
  },
  {
   "cell_type": "code",
   "execution_count": 751,
   "metadata": {},
   "outputs": [],
   "source": [
    "growth = range( 200 ) \\\n",
    "    | select( lambda d: (d, run_test(d) ) ) \\\n",
    "    | as_list"
   ]
  },
  {
   "cell_type": "code",
   "execution_count": 758,
   "metadata": {},
   "outputs": [],
   "source": [
    "import numpy as np\n",
    "\n",
    "ga = np.array(growth)"
   ]
  },
  {
   "cell_type": "markdown",
   "metadata": {},
   "source": [
    "Plotting the growth"
   ]
  },
  {
   "cell_type": "code",
   "execution_count": 764,
   "metadata": {},
   "outputs": [
    {
     "data": {
      "text/plain": [
       "Text(0,0.5,'Probability of getting caught')"
      ]
     },
     "execution_count": 764,
     "metadata": {},
     "output_type": "execute_result"
    },
    {
     "data": {
      "image/png": "[encoded data removed]",
      "text/plain": [
       "<Figure size 432x288 with 1 Axes>"
      ]
     },
     "metadata": {},
     "output_type": "display_data"
    }
   ],
   "source": [
    "import matplotlib.pyplot as plt\n",
    "\n",
    "plt.scatter( ga[:,0], ga[:,1] )\n",
    "plt.xlabel(\"Testing days\")\n",
    "plt.ylabel(\"Probability of getting caught\")"
   ]
  },
  {
   "cell_type": "markdown",
   "metadata": {},
   "source": [
    "This should be instantly recognisable as an exponential curve ;) \n",
    "\n",
    "Let's play with some exponential functions and figure out how to model the curve, reminicent of compound interest calculations in computational finance, should be pretty easy to scale the exponential as a function of the drinking liklihood"
   ]
  },
  {
   "cell_type": "code",
   "execution_count": 792,
   "metadata": {},
   "outputs": [
    {
     "data": {
      "text/plain": [
       "Text(0,0.5,'Probability of getting caught')"
      ]
     },
     "execution_count": 792,
     "metadata": {},
     "output_type": "execute_result"
    },
    {
     "data": {
      "image/png": "[encoded data removed]",
      "text/plain": [
       "<Figure size 432x288 with 1 Axes>"
      ]
     },
     "metadata": {},
     "output_type": "display_data"
    }
   ],
   "source": [
    "import math \n",
    "\n",
    "values = range(200) | select( lambda d: 1-math.exp(-d*(1/20)) ) | as_list\n",
    "\n",
    "ga2 = np.zeros( (200,2) )\n",
    "\n",
    "ga2[:,0] = np.array(range(200))\n",
    "ga2[:,1] = np.array(v)\n",
    "\n",
    "plt.scatter( ga2[:,0], ga2[:,1] )\n",
    "plt.xlabel(\"Testing days\")\n",
    "plt.ylabel(\"Probability of getting caught\")"
   ]
  },
  {
   "cell_type": "markdown",
   "metadata": {},
   "source": [
    "This looks like a pretty much spot-on match! Let's plot them on top of each other to verify"
   ]
  },
  {
   "cell_type": "code",
   "execution_count": 928,
   "metadata": {},
   "outputs": [
    {
     "data": {
      "text/plain": [
       "Text(0,0.5,'Probability of getting caught')"
      ]
     },
     "execution_count": 928,
     "metadata": {},
     "output_type": "execute_result"
    },
    {
     "data": {
      "image/png": "[encoded data removed]",
      "text/plain": [
       "<Figure size 432x288 with 1 Axes>"
      ]
     },
     "metadata": {},
     "output_type": "display_data"
    }
   ],
   "source": [
    "plt.scatter( ga2[:,0], ga2[:,1] )\n",
    "plt.scatter( ga[:,0], ga[:,1])\n",
    "plt.legend([\"closed-form\", \"monte carlo\"])\n",
    "plt.xlabel(\"Testing days\")\n",
    "plt.ylabel(\"Probability of getting caught\")"
   ]
  },
  {
   "cell_type": "markdown",
   "metadata": {},
   "source": [
    "Now let's create our final closed form function to compute the annual probability of getting caught with different numbers of testing days"
   ]
  },
  {
   "cell_type": "code",
   "execution_count": 850,
   "metadata": {},
   "outputs": [
    {
     "data": {
      "text/plain": [
       "[(1, 0.048770575499285984),\n",
       " (2, 0.09516258196404048),\n",
       " (12, 0.4511883639059736),\n",
       " (52, 0.9257264217856661),\n",
       " (260, 0.999997739670593)]"
      ]
     },
     "execution_count": 850,
     "metadata": {},
     "output_type": "execute_result"
    }
   ],
   "source": [
    "# note the 1/20 number wasn't plucked out of thin air, it means \n",
    "# \"one day in every month, where there are 20 working days in a month\"\n",
    "\n",
    "def caught_prob_closed_form(test_days = 52):\n",
    "    return 1-math.exp(-test_days*(1/20))\n",
    "\n",
    "[1,2,12,52,260] \\\n",
    "    | select( lambda d: (d, caught_prob_closed_form(d))) | as_list"
   ]
  },
  {
   "cell_type": "markdown",
   "metadata": {},
   "source": [
    "The exponential function is capturing some kind of \"compounding\" of the probability\n",
    "\n",
    "This is because in probability theory, two independent events $A$ and $B$ both occuring i.e. $P(A,B)$ is $P(B|A) \\times P(B)$ and we can think of this problem in reverse of \"how likely is it I can evade $E$ capture N times\" as a joint probability of $N$ evades i.e. $$1 - ( P(E_1) \\times P(E_2) \\times \\cdots \\times P(E_N) )$$ \n",
    "\n",
    "We add $1-$ to get back to the probability of getting caught that year"
   ]
  },
  {
   "cell_type": "markdown",
   "metadata": {},
   "source": [
    "First of all, roughly what's happening is this for 12 tests;"
   ]
  },
  {
   "cell_type": "code",
   "execution_count": 918,
   "metadata": {},
   "outputs": [
    {
     "data": {
      "text/plain": [
       "0.44852749345588583"
      ]
     },
     "execution_count": 918,
     "metadata": {},
     "output_type": "execute_result"
    }
   ],
   "source": [
    "drunk_days = 12\n",
    "test_days = 12\n",
    "\n",
    "1-math.pow( (days - drunk_days)/days, test_days)"
   ]
  },
  {
   "cell_type": "markdown",
   "metadata": {},
   "source": [
    "Which is pretty much the same as our $1-$ monthly drunk fraction i.e. \"how often are we sober\" (about 95% of the time);"
   ]
  },
  {
   "cell_type": "code",
   "execution_count": 916,
   "metadata": {},
   "outputs": [
    {
     "data": {
      "text/plain": [
       "0.45963991233736334"
      ]
     },
     "execution_count": 916,
     "metadata": {},
     "output_type": "execute_result"
    }
   ],
   "source": [
    "1-math.pow( 1-(1/20), 12)"
   ]
  },
  {
   "cell_type": "markdown",
   "metadata": {},
   "source": [
    "Seems pretty close to our closed form solution;"
   ]
  },
  {
   "cell_type": "code",
   "execution_count": 917,
   "metadata": {},
   "outputs": [
    {
     "data": {
      "text/plain": [
       "0.4511883639059736"
      ]
     },
     "execution_count": 917,
     "metadata": {},
     "output_type": "execute_result"
    }
   ],
   "source": [
    "caught_prob_closed_form(12)"
   ]
  },
  {
   "cell_type": "markdown",
   "metadata": {},
   "source": [
    "So we are computing the days \"evaded\" and multiplying it 12 times for each test i.e. $$0.95 \\times 0.95  \\times 0.95  \\times \\cdots  \\times 0.95$$"
   ]
  },
  {
   "cell_type": "markdown",
   "metadata": {},
   "source": [
    "Of course it's not quite the same number every time but in practice it doesn't make much difference, because the number of tests and days decrease with each iteration;\n",
    "\n",
    "`\n",
    "evade/days: 247/259=0.9536679536679536\n",
    "evade/days: 246/258=0.9534883720930233\n",
    "evade/days: 245/257=0.953307392996109\n",
    "evade/days: 244/256=0.953125\n",
    "evade/days: 243/255=0.9529411764705882\n",
    "`"
   ]
  },
  {
   "cell_type": "code",
   "execution_count": 919,
   "metadata": {},
   "outputs": [
    {
     "data": {
      "text/plain": [
       "[(1, 0.09034749034749023),\n",
       " (2, 0.1326569094010953),\n",
       " (12, 0.46703442406734663),\n",
       " (52, 0.9393596532451094),\n",
       " (100, 0.9976868268264146)]"
      ]
     },
     "execution_count": 919,
     "metadata": {},
     "output_type": "execute_result"
    }
   ],
   "source": [
    "def caught_prob_algorithm(test_days=52):\n",
    "    days = 260\n",
    "    drunk_days = 12\n",
    "    evade = days - drunk_days\n",
    "    prob = evade/days\n",
    "    \n",
    "    for d in range(test_days):\n",
    "        days = days - 1\n",
    "        evade = evade - 1\n",
    "        prob = prob * evade / days\n",
    "        \n",
    "    prob = 1 - prob\n",
    "    \n",
    "    return prob\n",
    "\n",
    "[1,2,12,52, 100] \\\n",
    "    | select( lambda d: (d, caught_prob_algorithm(d))) | as_list"
   ]
  },
  {
   "cell_type": "code",
   "execution_count": 929,
   "metadata": {},
   "outputs": [
    {
     "data": {
      "text/plain": [
       "Text(0,0.5,'Probability of getting caught')"
      ]
     },
     "execution_count": 929,
     "metadata": {},
     "output_type": "execute_result"
    },
    {
     "data": {
      "image/png": "[encoded data removed]",
      "text/plain": [
       "<Figure size 432x288 with 1 Axes>"
      ]
     },
     "metadata": {},
     "output_type": "display_data"
    }
   ],
   "source": [
    "alg_values = range(200) | select( lambda d: caught_prob_algorithm(d) ) | as_list\n",
    "\n",
    "plt.scatter( ga2[:,0], ga2[:,1] )\n",
    "plt.scatter( ga[:,0], ga[:,1])\n",
    "plt.scatter( ga[:,0], np.array(alg_values))\n",
    "\n",
    "plt.legend([\"closed-form\", \"monte carlo\", \"algorithm\"])\n",
    "plt.xlabel(\"Testing days\")\n",
    "plt.ylabel(\"Probability of getting caught\")"
   ]
  },
  {
   "cell_type": "markdown",
   "metadata": {},
   "source": [
    "So having the model the probability of evasion is what makes this problem unintuative, similar to the solution to the monte hall problem where you have to think of the probability of selecting a goat instead of the gold.\n",
    "\n",
    "If there is only 1 test we should be able to calculate that directly and have the value match up i.e. 12/260"
   ]
  },
  {
   "cell_type": "code",
   "execution_count": 971,
   "metadata": {},
   "outputs": [
    {
     "data": {
      "text/plain": [
       "0.046153846153846156"
      ]
     },
     "execution_count": 971,
     "metadata": {},
     "output_type": "execute_result"
    }
   ],
   "source": [
    "(12 / 260)\n",
    "\n",
    "# monte carlo said 0.049\n",
    "# closed form (exponential) said 0.048\n",
    "# algorithm said 0.09 (??) "
   ]
  },
  {
   "cell_type": "markdown",
   "metadata": {},
   "source": [
    "This is making me question the accuracy of the algorithm, maybe we don't need to take the days away at all?"
   ]
  },
  {
   "cell_type": "markdown",
   "metadata": {},
   "source": [
    "Let's plot the residuals of the monte carlo - probability algorithm"
   ]
  },
  {
   "cell_type": "code",
   "execution_count": 966,
   "metadata": {},
   "outputs": [
    {
     "data": {
      "text/plain": [
       "Text(0,0.5,'residual')"
      ]
     },
     "execution_count": 966,
     "metadata": {},
     "output_type": "execute_result"
    },
    {
     "data": {
      "image/png": "[encoded data removed]",
      "text/plain": [
       "<Figure size 432x288 with 1 Axes>"
      ]
     },
     "metadata": {},
     "output_type": "display_data"
    }
   ],
   "source": [
    "closed_form = ga2[:,1]\n",
    "monte_carlo = ga[:,1]\n",
    "algorithm = alg_values\n",
    "\n",
    "plt.plot( monte_carlo - algorithm )\n",
    "plt.title(\"Monte carlo - Algorithm\")\n",
    "plt.xlabel(\"test iterations\")\n",
    "plt.ylabel(\"residual\")"
   ]
  },
  {
   "cell_type": "markdown",
   "metadata": {},
   "source": [
    "Seems to stabalise with more tests, let's compare the algorithm and the closed form solution"
   ]
  },
  {
   "cell_type": "code",
   "execution_count": 981,
   "metadata": {},
   "outputs": [
    {
     "data": {
      "text/plain": [
       "Text(0,0.5,'residual')"
      ]
     },
     "execution_count": 981,
     "metadata": {},
     "output_type": "execute_result"
    },
    {
     "data": {
      "image/png": "[encoded data removed]",
      "text/plain": [
       "<Figure size 432x288 with 1 Axes>"
      ]
     },
     "metadata": {},
     "output_type": "display_data"
    }
   ],
   "source": [
    "plt.plot( algorithm - closed_form )\n",
    "plt.title(\"Algorithm - closed form\")\n",
    "plt.xlabel(\"test iterations\")\n",
    "plt.ylabel(\"residual\")"
   ]
  },
  {
   "cell_type": "markdown",
   "metadata": {},
   "source": [
    "So the algorithm starts to incur more and more error as the test iterations goes down"
   ]
  },
  {
   "cell_type": "code",
   "execution_count": 980,
   "metadata": {},
   "outputs": [
    {
     "data": {
      "text/plain": [
       "Text(0,0.5,'residual')"
      ]
     },
     "execution_count": 980,
     "metadata": {},
     "output_type": "execute_result"
    },
    {
     "data": {
      "image/png": "[encoded data removed]",
      "text/plain": [
       "<Figure size 432x288 with 1 Axes>"
      ]
     },
     "metadata": {},
     "output_type": "display_data"
    }
   ],
   "source": [
    "plt.plot( monte_carlo - closed_form )\n",
    "plt.title(\"Monte - closed form\")\n",
    "plt.xlabel(\"test iterations\")\n",
    "plt.ylabel(\"residual\")"
   ]
  },
  {
   "cell_type": "markdown",
   "metadata": {},
   "source": [
    "This in combination with the fact that $(12 / 260)$ agrees with monte carlo and closed form seems to be pretty good evidence that the algorithm from Theo chipping off days is wrong, it's noisy due to the stochastic nature of the simulation but it's still somewhat balanced around 0. It's possible that Theo's algorithm is right but reporting the wrong result due to numerical precision issues. "
   ]
  },
  {
   "cell_type": "markdown",
   "metadata": {},
   "source": [
    "Another version of the algorithm which doesn't chip off days, we re-write it several ways to combat numerical precision issues"
   ]
  },
  {
   "cell_type": "code",
   "execution_count": 1098,
   "metadata": {},
   "outputs": [
    {
     "data": {
      "text/plain": [
       "<matplotlib.legend.Legend at 0x20c1d71bdd8>"
      ]
     },
     "execution_count": 1098,
     "metadata": {},
     "output_type": "execute_result"
    },
    {
     "data": {
      "image/png": "[encoded data removed]",
      "text/plain": [
       "<Figure size 432x288 with 1 Axes>"
      ]
     },
     "metadata": {},
     "output_type": "display_data"
    }
   ],
   "source": [
    "# this way is written similar to the original\n",
    "def caught_prob_algorithm_nochip(test_days=52):\n",
    "    days = 260\n",
    "    drunk_days = 12\n",
    "    evade = days - drunk_days\n",
    "    prob = evade/days\n",
    "    \n",
    "    for d in range(test_days):\n",
    "        prob = prob * (evade / days)\n",
    "        \n",
    "    prob = 1 - prob\n",
    "    \n",
    "    return prob\n",
    "\n",
    "def caught_prob_algorithm_nochip_pow(test_days=52):\n",
    "    drunk_days = 12\n",
    "    evade = days - drunk_days\n",
    "    prob = evade/ 260\n",
    "    \n",
    "    return 1 - math.pow( evade/days, test_days )\n",
    "\n",
    "# we can do a neat trick in maths with probabilities, turn them into log-probabilities then\n",
    "# add them up, then you don't run out of precision i.e. with 0.000x * 0.000x\n",
    "def caught_prob_algorithm_nochip_log(test_days=52):\n",
    "    drunk_days = 12\n",
    "    evade = 260 - drunk_days\n",
    "    prob = evade / 260\n",
    "    \n",
    "    return 1-(math.exp( math.log(prob)*test_days ))\n",
    "\n",
    "algorithm_nochip = range(200) | select( lambda d: caught_prob_algorithm_nochip(d) ) | as_list\n",
    "algorithm_nochip_pow = range(200) | select( lambda d: caught_prob_algorithm_nochip_pow(d) ) | as_list\n",
    "algorithm_nochip_log = range(200) | select( lambda d: caught_prob_algorithm_nochip_log(d) ) | as_list\n",
    "\n",
    "plt.plot( algorithm_nochip - closed_form )\n",
    "plt.plot( algorithm_nochip_pow - closed_form )\n",
    "plt.plot( algorithm_nochip_log - closed_form )\n",
    "plt.xlabel(\"test iterations\")\n",
    "plt.ylabel(\"residual\")\n",
    "plt.legend([\"algorithm_nochip - closed_form\", \n",
    "            \"algorithm_nochip_pow - closed_form\", \n",
    "           \"algorithm_nochip_log - closed_form\"])"
   ]
  },
  {
   "cell_type": "markdown",
   "metadata": {},
   "source": [
    "Looks like a lot of the discrepancy is caused by numerical precision issues! But which one do we trust the most? The log version should have the lowest error, but it looks weird"
   ]
  },
  {
   "cell_type": "code",
   "execution_count": 1106,
   "metadata": {},
   "outputs": [
    {
     "data": {
      "text/plain": [
       "Text(0,0.5,'residual')"
      ]
     },
     "execution_count": 1106,
     "metadata": {},
     "output_type": "execute_result"
    },
    {
     "data": {
      "image/png": "[encoded data removed]",
      "text/plain": [
       "<Figure size 432x288 with 1 Axes>"
      ]
     },
     "metadata": {},
     "output_type": "display_data"
    }
   ],
   "source": [
    "plt.plot(  algorithm_nochip_pow - closed_form)\n",
    "plt.title(\"Monte - closed form\")\n",
    "plt.xlabel(\"test iterations\")\n",
    "plt.ylabel(\"residual\")"
   ]
  },
  {
   "cell_type": "markdown",
   "metadata": {},
   "source": [
    "Still seeing a weird error artefact on low iterations (pretty negligable though i.e. -> 0.0030), I assume still caused by numerical error -- but this is getting somewhat academic now -- I think the take home message is that the simple exponential function is the way to go"
   ]
  }
 ],
 "metadata": {
  "kernelspec": {
   "display_name": "Python 3",
   "language": "python",
   "name": "python3"
  },
  "language_info": {
   "codemirror_mode": {
    "name": "ipython",
    "version": 3
   },
   "file_extension": ".py",
   "mimetype": "text/x-python",
   "name": "python",
   "nbconvert_exporter": "python",
   "pygments_lexer": "ipython3",
   "version": "3.6.5"
  }
 },
 "nbformat": 4,
 "nbformat_minor": 2
}
